{
 "cells": [
  {
   "cell_type": "code",
   "execution_count": 3,
   "metadata": {},
   "outputs": [
    {
     "name": "stdout",
     "output_type": "stream",
     "text": [
      "The autoreload extension is already loaded. To reload it, use:\n",
      "  %reload_ext autoreload\n"
     ]
    }
   ],
   "source": [
    "%load_ext autoreload\n",
    "%autoreload"
   ]
  },
  {
   "cell_type": "code",
   "execution_count": 4,
   "metadata": {},
   "outputs": [],
   "source": [
    "import argparse\n",
    "import os\n",
    "import sys\n",
    "import torch\n",
    "import torchvision\n",
    "from torch.backends import cudnn\n",
    "from torch import optim\n",
    "from torch.autograd import Variable\n",
    "from torch.utils import data\n",
    "from torchvision import transforms\n",
    "from torchvision import datasets\n",
    "from PIL import Image\n",
    "\n",
    "import numpy as np\n",
    "\n",
    "from matplotlib import pyplot as plt"
   ]
  },
  {
   "cell_type": "code",
   "execution_count": 5,
   "metadata": {},
   "outputs": [],
   "source": [
    "from utils import *\n",
    "# import infogan2"
   ]
  },
  {
   "cell_type": "code",
   "execution_count": 6,
   "metadata": {},
   "outputs": [],
   "source": [
    "# test_noise = noise_sample(10,10,1,1,1,'cpu')\n",
    "params = {}\n",
    "params['num_z']      = 62\n",
    "params['dis_c_dim']  = 10\n",
    "params['num_con_c']  =  2\n",
    "\n",
    "params['batch_size'] = 10\n",
    "params['num_epochs'] = 30\n",
    "params['epochs'] = 100\n",
    "\n",
    "params['image_size']  = 28\n",
    "params['num_workers'] = 1\n",
    "\n",
    "#optimization params\n",
    "params['lrD']   = 0.0002  # Learning rate for Discriminator\n",
    "params['lrG']   = 0.001   # Learning rate for Generator\n",
    "params['beta1'] = 0.5   # Momentum 1 in Adam\n",
    "params['beta2'] = 0.999 # Momentum 2 in Adam\n",
    "\n",
    "######################\n",
    "test_noise = noise_sample(params['dis_c_dim'], \n",
    "                          params['num_con_c'], params['num_z'],\n",
    "                          params['batch_size'],'cpu')"
   ]
  },
  {
   "cell_type": "code",
   "execution_count": 7,
   "metadata": {},
   "outputs": [
    {
     "data": {
      "text/plain": [
       "torch.Size([10, 74, 1, 1])"
      ]
     },
     "execution_count": 7,
     "metadata": {},
     "output_type": "execute_result"
    }
   ],
   "source": [
    "test_noise[0].size()"
   ]
  },
  {
   "cell_type": "code",
   "execution_count": 8,
   "metadata": {},
   "outputs": [],
   "source": [
    "class Generator(nn.Module):\n",
    "    def __init__(self, z_dim=62, cc_dim=2, dc_dim=10):\n",
    "        super(Generator, self).__init__()\n",
    "        i_dim = z_dim + cc_dim + dc_dim\n",
    "        self.main = nn.Sequential(\n",
    "          nn.ConvTranspose2d(i_dim, 1024, 1, 1, bias=False),\n",
    "          nn.BatchNorm2d(1024),\n",
    "          nn.ReLU(True),\n",
    "          nn.ConvTranspose2d(1024, 128, 7, 1, bias=False),\n",
    "          nn.BatchNorm2d(128),\n",
    "          nn.ReLU(True),\n",
    "          nn.ConvTranspose2d(128, 64, 4, 2, 1, bias=False),\n",
    "          nn.BatchNorm2d(64),\n",
    "          nn.ReLU(True),\n",
    "          nn.ConvTranspose2d(64, 1, 4, 2, 1, bias=False),\n",
    "          nn.Sigmoid()\n",
    "    )\n",
    "    def forward(self, z):\n",
    "        out = self.main(z)\n",
    "        return out\n",
    "    \n",
    "class Discriminator(nn.Module):\n",
    "    def __init__(self, cc_dim = 1, dc_dim = 10):\n",
    "        super(Discriminator, self).__init__()\n",
    "        self.cc_dim = cc_dim\n",
    "        self.dc_dim = dc_dim\n",
    "        \n",
    "        self.main = nn.Sequential(\n",
    "          nn.Conv2d(1, 64, 4, 2, 1),\n",
    "          nn.LeakyReLU(0.1, inplace=True),\n",
    "          nn.Conv2d(64, 128, 4, 2, 1, bias=False),\n",
    "          nn.BatchNorm2d(128),\n",
    "          nn.LeakyReLU(0.1, inplace=True),\n",
    "          nn.Conv2d(128, 1024, 7, bias=False),\n",
    "          nn.BatchNorm2d(1024),\n",
    "          nn.LeakyReLU(0.1, inplace=True),\n",
    "        )\n",
    "        \n",
    "        self.linear = nn.Sequential(\n",
    "            nn.Conv2d(1024, 1, 1),\n",
    "            nn.Sigmoid()\n",
    "        )\n",
    "        \n",
    "    def front_end(self, x):\n",
    "        return self.main(x)\n",
    "    \n",
    "    def forward(self, x):\n",
    "        out = self.main(x)\n",
    "        out = self.linear(out).squeeze()\n",
    "        return out #prob of being real\n",
    "\n",
    "class Q(nn.Module):\n",
    "    def __init__(self, cc_dim=2, dc_dim=10):\n",
    "        super(Q, self).__init__()\n",
    "        self.conv = nn.Conv2d(1024, 128, 1, bias=False)\n",
    "        self.bn = nn.BatchNorm2d(128)\n",
    "        self.lReLU = nn.LeakyReLU(0.1, inplace=True)\n",
    "        self.conv_disc = nn.Conv2d(128, 10, 1)\n",
    "        self.conv_mu = nn.Conv2d(128, 2, 1)\n",
    "        self.conv_var = nn.Conv2d(128, 2, 1)\n",
    "    def forward(self, x):\n",
    "        y = self.lReLU(self.bn(self.conv(x)))\n",
    "        \n",
    "        disc_logits = self.conv_disc(y).squeeze()\n",
    "        mu = self.conv_mu(y).squeeze()\n",
    "        var = self.conv_var(y).squeeze().exp()\n",
    "\n",
    "        return disc_logits, mu, var"
   ]
  },
  {
   "cell_type": "code",
   "execution_count": 17,
   "metadata": {},
   "outputs": [
    {
     "data": {
      "text/plain": [
       "torch.Size([10, 2])"
      ]
     },
     "execution_count": 17,
     "metadata": {},
     "output_type": "execute_result"
    }
   ],
   "source": [
    "gen = Generator(params['num_z'], params['num_con_c'], params['dis_c_dim'])\n",
    "dsc = Discriminator(params['num_con_c'], params['dis_c_dim'])\n",
    "q   = Q(params['num_con_c'], params['dis_c_dim'])\n",
    "# gen(test_noise[0]).size()\n",
    "q(dsc.front_end(gen(test_noise[0])))[2].size()\n",
    "# dsc.front_end(gen(test_noise[0])).size()"
   ]
  },
  {
   "cell_type": "code",
   "execution_count": 18,
   "metadata": {},
   "outputs": [],
   "source": [
    "#create dataset\n",
    "transform = transforms.Compose([\n",
    "    transforms.Resize((params['image_size'], params['image_size'])),\n",
    "    transforms.ToTensor(),\n",
    "    transforms.Normalize((0.5, 0.5, 0.5), (0.5, 0.5, 0.5))])\n",
    "dataset = datasets.MNIST('./MNIST', train=True, transform=transform, target_transform=None, download=True)\n",
    "\n",
    "data_loader = data.DataLoader(dataset = dataset,\n",
    "                              batch_size = params['batch_size'],\n",
    "                              shuffle = True,\n",
    "                              num_workers = params['num_workers'])"
   ]
  },
  {
   "cell_type": "code",
   "execution_count": 19,
   "metadata": {},
   "outputs": [],
   "source": [
    "g_o = optim.Adam(gen.parameters(), \n",
    "                 lr=params['lrG'], betas=[params['beta1'], params['beta2']])\n",
    "d_o = optim.Adam([{'params': dsc.parameters(), 'params': q.parameters()}], \n",
    "                 lr=params['lrD'], betas=[params['beta1'], params['beta2']])"
   ]
  },
  {
   "cell_type": "code",
   "execution_count": 20,
   "metadata": {},
   "outputs": [
    {
     "name": "stdout",
     "output_type": "stream",
     "text": [
      "using cuda\n"
     ]
    },
    {
     "data": {
      "text/plain": [
       "Q(\n",
       "  (conv): Conv2d(1024, 128, kernel_size=(1, 1), stride=(1, 1), bias=False)\n",
       "  (bn): BatchNorm2d(128, eps=1e-05, momentum=0.1, affine=True, track_running_stats=True)\n",
       "  (lReLU): LeakyReLU(negative_slope=0.1, inplace)\n",
       "  (conv_disc): Conv2d(128, 10, kernel_size=(1, 1), stride=(1, 1))\n",
       "  (conv_mu): Conv2d(128, 2, kernel_size=(1, 1), stride=(1, 1))\n",
       "  (conv_var): Conv2d(128, 2, kernel_size=(1, 1), stride=(1, 1))\n",
       ")"
      ]
     },
     "execution_count": 20,
     "metadata": {},
     "output_type": "execute_result"
    }
   ],
   "source": [
    "device = 'cpu'\n",
    "if torch.cuda.is_available():\n",
    "    print('using cuda')\n",
    "    gen.cuda()\n",
    "    dsc.cuda()\n",
    "    q.cuda()\n",
    "    device = 'cuda'\n",
    "\n",
    "gen.apply(weights_init)\n",
    "dsc.apply(weights_init)\n",
    "q.apply(weights_init)"
   ]
  },
  {
   "cell_type": "code",
   "execution_count": 21,
   "metadata": {},
   "outputs": [
    {
     "name": "stdout",
     "output_type": "stream",
     "text": [
      "Epoch/Iter:1/3200, D_Loss: 1.4587225914001465, G_Loss: 1.9764257669448853\r"
     ]
    },
    {
     "ename": "KeyboardInterrupt",
     "evalue": "",
     "output_type": "error",
     "traceback": [
      "\u001b[0;31m---------------------------------------------------------------------------\u001b[0m",
      "\u001b[0;31mKeyboardInterrupt\u001b[0m                         Traceback (most recent call last)",
      "\u001b[0;32m<ipython-input-21-6a4aa848fe8c>\u001b[0m in \u001b[0;36m<module>\u001b[0;34m\u001b[0m\n\u001b[1;32m     18\u001b[0m         \u001b[0mlabel\u001b[0m \u001b[0;34m=\u001b[0m \u001b[0mtorch\u001b[0m\u001b[0;34m.\u001b[0m\u001b[0mfull\u001b[0m\u001b[0;34m(\u001b[0m\u001b[0;34m(\u001b[0m\u001b[0mparams\u001b[0m\u001b[0;34m[\u001b[0m\u001b[0;34m'batch_size'\u001b[0m\u001b[0;34m]\u001b[0m\u001b[0;34m,\u001b[0m \u001b[0;34m)\u001b[0m\u001b[0;34m,\u001b[0m \u001b[0;36m1\u001b[0m\u001b[0;34m,\u001b[0m \u001b[0mdevice\u001b[0m\u001b[0;34m=\u001b[0m\u001b[0mdevice\u001b[0m\u001b[0;34m)\u001b[0m\u001b[0;34m\u001b[0m\u001b[0;34m\u001b[0m\u001b[0m\n\u001b[1;32m     19\u001b[0m         \u001b[0mloss_real\u001b[0m \u001b[0;34m=\u001b[0m \u001b[0mBCE\u001b[0m\u001b[0;34m(\u001b[0m\u001b[0mreal_prob\u001b[0m\u001b[0;34m,\u001b[0m \u001b[0mlabel\u001b[0m\u001b[0;34m)\u001b[0m \u001b[0;31m#\u001b[0m\u001b[0;34m\u001b[0m\u001b[0;34m\u001b[0m\u001b[0m\n\u001b[0;32m---> 20\u001b[0;31m         \u001b[0mloss_real\u001b[0m\u001b[0;34m.\u001b[0m\u001b[0mbackward\u001b[0m\u001b[0;34m(\u001b[0m\u001b[0;34m)\u001b[0m\u001b[0;34m\u001b[0m\u001b[0;34m\u001b[0m\u001b[0m\n\u001b[0m\u001b[1;32m     21\u001b[0m         \u001b[0;31m####### Fake Data  #######\u001b[0m\u001b[0;34m\u001b[0m\u001b[0;34m\u001b[0m\u001b[0;34m\u001b[0m\u001b[0m\n\u001b[1;32m     22\u001b[0m         noise, idx = noise_sample(params['dis_c_dim'], \n",
      "\u001b[0;32m~/miniconda3/envs/torch/lib/python3.7/site-packages/torch/tensor.py\u001b[0m in \u001b[0;36mbackward\u001b[0;34m(self, gradient, retain_graph, create_graph)\u001b[0m\n\u001b[1;32m    100\u001b[0m                 \u001b[0mproducts\u001b[0m\u001b[0;34m.\u001b[0m \u001b[0mDefaults\u001b[0m \u001b[0mto\u001b[0m\u001b[0;31m \u001b[0m\u001b[0;31m`\u001b[0m\u001b[0;31m`\u001b[0m\u001b[0;32mFalse\u001b[0m\u001b[0;31m`\u001b[0m\u001b[0;31m`\u001b[0m\u001b[0;34m.\u001b[0m\u001b[0;34m\u001b[0m\u001b[0;34m\u001b[0m\u001b[0m\n\u001b[1;32m    101\u001b[0m         \"\"\"\n\u001b[0;32m--> 102\u001b[0;31m         \u001b[0mtorch\u001b[0m\u001b[0;34m.\u001b[0m\u001b[0mautograd\u001b[0m\u001b[0;34m.\u001b[0m\u001b[0mbackward\u001b[0m\u001b[0;34m(\u001b[0m\u001b[0mself\u001b[0m\u001b[0;34m,\u001b[0m \u001b[0mgradient\u001b[0m\u001b[0;34m,\u001b[0m \u001b[0mretain_graph\u001b[0m\u001b[0;34m,\u001b[0m \u001b[0mcreate_graph\u001b[0m\u001b[0;34m)\u001b[0m\u001b[0;34m\u001b[0m\u001b[0;34m\u001b[0m\u001b[0m\n\u001b[0m\u001b[1;32m    103\u001b[0m \u001b[0;34m\u001b[0m\u001b[0m\n\u001b[1;32m    104\u001b[0m     \u001b[0;32mdef\u001b[0m \u001b[0mregister_hook\u001b[0m\u001b[0;34m(\u001b[0m\u001b[0mself\u001b[0m\u001b[0;34m,\u001b[0m \u001b[0mhook\u001b[0m\u001b[0;34m)\u001b[0m\u001b[0;34m:\u001b[0m\u001b[0;34m\u001b[0m\u001b[0;34m\u001b[0m\u001b[0m\n",
      "\u001b[0;32m~/miniconda3/envs/torch/lib/python3.7/site-packages/torch/autograd/__init__.py\u001b[0m in \u001b[0;36mbackward\u001b[0;34m(tensors, grad_tensors, retain_graph, create_graph, grad_variables)\u001b[0m\n\u001b[1;32m     88\u001b[0m     Variable._execution_engine.run_backward(\n\u001b[1;32m     89\u001b[0m         \u001b[0mtensors\u001b[0m\u001b[0;34m,\u001b[0m \u001b[0mgrad_tensors\u001b[0m\u001b[0;34m,\u001b[0m \u001b[0mretain_graph\u001b[0m\u001b[0;34m,\u001b[0m \u001b[0mcreate_graph\u001b[0m\u001b[0;34m,\u001b[0m\u001b[0;34m\u001b[0m\u001b[0;34m\u001b[0m\u001b[0m\n\u001b[0;32m---> 90\u001b[0;31m         allow_unreachable=True)  # allow_unreachable flag\n\u001b[0m\u001b[1;32m     91\u001b[0m \u001b[0;34m\u001b[0m\u001b[0m\n\u001b[1;32m     92\u001b[0m \u001b[0;34m\u001b[0m\u001b[0m\n",
      "\u001b[0;31mKeyboardInterrupt\u001b[0m: "
     ]
    }
   ],
   "source": [
    "G_losses = []\n",
    "D_losses = []\n",
    "\n",
    "BCE = nn.BCELoss().to(device) #Binary Cross Entropy loss\n",
    "CE  = nn.CrossEntropyLoss().to(device)\n",
    "CQ  = NormalNLLLoss()\n",
    "\n",
    "for epoch in range(params['epochs']):\n",
    "    for n_i, batch_data in enumerate(data_loader):\n",
    "        ##########################\n",
    "        # Optimize Discriminator #\n",
    "        ##########################\n",
    "        d_o.zero_grad()\n",
    "        ####### Real Data  #######\n",
    "        real_im   = batch_data[0].to(device) # batch data also contains label info\n",
    "        real_prob = dsc(real_im)  # propability of classifying as real\n",
    "#         label.data.fill_(1)\n",
    "        label = torch.full((params['batch_size'], ), 1, device=device)\n",
    "        loss_real = BCE(real_prob, label) #\n",
    "        loss_real.backward()\n",
    "        ####### Fake Data  #######\n",
    "        noise, idx = noise_sample(params['dis_c_dim'], \n",
    "                          params['num_con_c'], params['num_z'],\n",
    "                          params['batch_size'],device)\n",
    "        fake_im   = gen(noise)\n",
    "        fake_prob = dsc(real_im)  # propability of classifying as real\n",
    "        label.data.fill_(0)\n",
    "        loss_fake = BCE(fake_prob, label)\n",
    "        loss_fake.backward()\n",
    "        \n",
    "        discriminator_loss = loss_real + loss_fake\n",
    "        d_o.step()\n",
    "        \n",
    "        ##########################\n",
    "        #   Optimize Generator   #\n",
    "        ##########################\n",
    "        g_o.zero_grad()\n",
    "        \n",
    "        label.fill_(1)\n",
    "        fake_prob = dsc(real_im)  # propability of classifying as real\n",
    "        reconstruct_loss = BCE(fake_prob, label)\n",
    "        \n",
    "        q_logits, q_mu, q_var = q(dsc.front_end(fake_im))\n",
    "        target = torch.LongTensor(idx).to(device)\n",
    "        # Calculating loss for discrete latent code.\n",
    "        dis_loss = CE(q_logits, target)\n",
    "        # Calculating loss for continuous latent code.\n",
    "        con_c = noise[:, params['num_z'] + params['dis_c_dim'] : ].view(-1, params['num_con_c'])\n",
    "\n",
    "        con_loss = CQ(con_c, q_mu, q_var) * 0.1\n",
    "        # Generator Loss (Reconstruct, Discreate and Latent code)\n",
    "        generator_loss = reconstruct_loss + dis_loss + con_loss\n",
    "        generator_loss.backward()\n",
    "        g_o.step()\n",
    "        ##########################\n",
    "        #      Logging Part      #\n",
    "        ##########################\n",
    "        if (n_i) % 100 == 0 and n_i > 0:\n",
    "            sys.stdout.write('Epoch/Iter:{0}/{1}, D_Loss: {2}, G_Loss: {3}\\r'.format(\n",
    "                epoch + 1, n_i, discriminator_loss.item(), generator_loss.item())\n",
    "            )\n",
    "            sys.stdout.flush()\n",
    "    # Save the losses for plotting.\n",
    "    G_losses.append(generator_loss.item())\n",
    "    D_losses.append(discriminator_loss.item())\n",
    "    print('')"
   ]
  },
  {
   "cell_type": "code",
   "execution_count": null,
   "metadata": {},
   "outputs": [],
   "source": [
    "plt.plot(G_losses,label=\"G\")\n",
    "plt.plot(D_losses,label=\"D\")\n",
    "plt.show()"
   ]
  },
  {
   "cell_type": "code",
   "execution_count": null,
   "metadata": {},
   "outputs": [],
   "source": [
    "torch.save(gen.state_dict(), 'mnist_info_gan_gen')\n",
    "torch.save(dsc.state_dict(), 'mnist_info_gan_dsc')"
   ]
  }
 ],
 "metadata": {
  "kernelspec": {
   "display_name": "Python 3",
   "language": "python",
   "name": "python3"
  },
  "language_info": {
   "codemirror_mode": {
    "name": "ipython",
    "version": 3
   },
   "file_extension": ".py",
   "mimetype": "text/x-python",
   "name": "python",
   "nbconvert_exporter": "python",
   "pygments_lexer": "ipython3",
   "version": "3.7.2"
  }
 },
 "nbformat": 4,
 "nbformat_minor": 2
}
