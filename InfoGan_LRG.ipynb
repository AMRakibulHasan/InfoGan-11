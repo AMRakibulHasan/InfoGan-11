{
 "cells": [
  {
   "cell_type": "code",
   "execution_count": 1,
   "metadata": {},
   "outputs": [],
   "source": [
    "import os\n",
    "import sys\n",
    "\n",
    "import torchvision\n",
    "from torch.backends import cudnn\n",
    "import torch\n",
    "import torch.nn as nn\n",
    "import torch.optim as optim\n",
    "from torch.autograd import Variable\n",
    "from torch.utils import data\n",
    "from torchvision import transforms\n",
    "from torchvision import datasets\n",
    "\n",
    "import numpy as np\n",
    "from matplotlib import pyplot as plt\n",
    "import PIL.Image as Image\n",
    "\n",
    "from pandas import read_fwf, DataFrame\n",
    "from tqdm   import tqdm_notebook as tqdm"
   ]
  },
  {
   "cell_type": "code",
   "execution_count": 2,
   "metadata": {},
   "outputs": [],
   "source": [
    "#Load our custom libs\n",
    "from utils import *\n",
    "from radioreader import *\n",
    "from methods import *\n",
    "from kittler import kittler_float"
   ]
  },
  {
   "cell_type": "code",
   "execution_count": 3,
   "metadata": {},
   "outputs": [
    {
     "data": {
      "application/vnd.jupyter.widget-view+json": {
       "model_id": "7b92c775ac1d4c36af4800efed320c7e",
       "version_major": 2,
       "version_minor": 0
      },
      "text/plain": [
       "HBox(children=(IntProgress(value=0, max=1442), HTML(value='')))"
      ]
     },
     "metadata": {},
     "output_type": "display_data"
    },
    {
     "name": "stdout",
     "output_type": "stream",
     "text": [
      "\n",
      "# of Extended  1037 of 1442\n"
     ]
    }
   ],
   "source": [
    "lrg = read_fwf('catalog/mrt-table3.txt', skiprows=41, header=None)\n",
    "labeled = DataFrame({'Name':lrg[0], 'Label':lrg[7]})\n",
    "\n",
    "#load the images\n",
    "names = labeled['Name'].tolist()\n",
    "labels = labeled['Label'].tolist()\n",
    "images = []\n",
    "directory = 'lrg'\n",
    "ext = 'fits'\n",
    "\n",
    "for i in tqdm(range(len(names))):\n",
    "    f_name = '{0}/{1}.{2}'.format(directory, \n",
    "                                  names[i].replace('.','_'), \n",
    "                                  ext)\n",
    "    im = readImg(f_name, normalize=True, sz=128)\n",
    "#     k = kittler_float(im, copy=False)\n",
    "    images.append(im.T)\n",
    "\n",
    "images = np.array(images)\n",
    "extended_sources = [ 0 if (l == '1' or l == '1F') else 1 for l in labels]\n",
    "extended_sources = np.array(np.array(extended_sources))\n",
    "print('# of Extended ', extended_sources.sum() , 'of', len(extended_sources))\n"
   ]
  },
  {
   "cell_type": "code",
   "execution_count": 4,
   "metadata": {},
   "outputs": [],
   "source": [
    "class LRG(data.Dataset):\n",
    "    def __init__(self, images, target, transform=None):\n",
    "        self.data = images\n",
    "        self.labels = extended_sources\n",
    "        self.data_len = len(self.data)\n",
    "        if(transform == None):\n",
    "            self.transform = transforms.Compose([\n",
    "                transforms.RandomHorizontalFlip(),\n",
    "                transforms.RandomVerticalFlip(),\n",
    "                transforms.RandomRotation(180),\n",
    "#                 transforms.RandomResizedCrop((128,128),(.5,1)),\n",
    "                transforms.ToTensor()])\n",
    "        else : self.transform = transform\n",
    "\n",
    "    def __getitem__(self, index):\n",
    "        index = index % self.data_len\n",
    "        np_arr = self.data[index, :]\n",
    "        y = self.labels[index]\n",
    "        ## reshape np_arr to 28x28\n",
    "        np_arr = np_arr.reshape(128, 128)\n",
    "\n",
    "        ## convert to PIL-image\n",
    "        img = Image.fromarray((np_arr*255).astype('uint8'))\n",
    "\n",
    "        #apply the transformations and return tensors\n",
    "        return self.transform(img), y\n",
    "    def __len__(self):\n",
    "        return self.data_len * 10"
   ]
  },
  {
   "cell_type": "code",
   "execution_count": null,
   "metadata": {},
   "outputs": [],
   "source": [
    "# test_noise = noise_sample(10,10,1,1,1,'cpu')\n",
    "params = {}\n",
    "params['num_z']      = 72\n",
    "params['dis_c_dim']  =  2 # size of discrete latent code\n",
    "params['num_con_c']  = 10 # size of continuous latent code\n",
    "\n",
    "params['batch_size'] = 10\n",
    "params['epochs'] = 200\n",
    "\n",
    "params['image_size']  = 128\n",
    "params['num_workers'] = 1\n",
    "\n",
    "#optimization params\n",
    "params['lrD']   = 0.0002  # Learning rate for Discriminator\n",
    "params['lrG']   = 0.001   # Learning rate for Generator\n",
    "params['beta1'] = 0.5   # Momentum 1 in Adam\n",
    "params['beta2'] = 0.999 # Momentum 2 in Adam\n",
    "\n",
    "######################\n",
    "test_noise = noise_sample(params['dis_c_dim'], \n",
    "                          params['num_con_c'], params['num_z'],\n",
    "                          params['batch_size'],'cpu')"
   ]
  },
  {
   "cell_type": "code",
   "execution_count": null,
   "metadata": {},
   "outputs": [
    {
     "data": {
      "text/plain": [
       "14420"
      ]
     },
     "execution_count": 6,
     "metadata": {},
     "output_type": "execute_result"
    }
   ],
   "source": [
    "dataset = LRG(images, extended_sources)\n",
    "dataloader = data.DataLoader(dataset, batch_size=params['batch_size'])\n",
    "dataset.__len__()"
   ]
  },
  {
   "cell_type": "code",
   "execution_count": null,
   "metadata": {},
   "outputs": [],
   "source": [
    "class Generator(nn.Module):\n",
    "    def __init__(self, z_dim=62, cc_dim=2, dc_dim=10):\n",
    "        super(Generator, self).__init__()\n",
    "        i_dim = z_dim + cc_dim + dc_dim\n",
    "        self.main = nn.Sequential(\n",
    "            nn.ConvTranspose2d(i_dim, 1024, 1, 1, bias=False),\n",
    "            nn.BatchNorm2d(1024),\n",
    "            nn.ReLU(True),\n",
    "            nn.ConvTranspose2d(1024,  512, 8, 1, bias=False),\n",
    "            nn.BatchNorm2d(512),\n",
    "            nn.ReLU(True),\n",
    "            nn.ConvTranspose2d(512, 256, 4, 2, 1, bias=False),\n",
    "            nn.BatchNorm2d(256),\n",
    "            nn.ReLU(True),\n",
    "            nn.ConvTranspose2d(256, 128, 4, 2, 1, bias=False),\n",
    "            nn.BatchNorm2d(128),\n",
    "            nn.ReLU(True),\n",
    "            nn.ConvTranspose2d(128, 64, 4, 2, 1, bias=False),\n",
    "            nn.BatchNorm2d(64),\n",
    "            nn.ReLU(True),\n",
    "            nn.ConvTranspose2d(64, 1, 4, 2, 1, bias=False),\n",
    "            nn.BatchNorm2d(1),\n",
    "            nn.Sigmoid()\n",
    "        )\n",
    "\n",
    "    def forward(self, z):\n",
    "        out = self.main(z)\n",
    "        return out\n",
    "\n",
    "class FrontEnd(nn.Module):\n",
    "    def __init__(self):\n",
    "        super(FrontEnd, self).__init__()\n",
    "        \n",
    "        self.main = nn.Sequential(\n",
    "            nn.Conv2d(1, 64, 4, 2, 1),\n",
    "            nn.LeakyReLU(0.1, inplace=True),\n",
    "            nn.Conv2d(64, 128, 4, 2, 1, bias=False),\n",
    "            nn.BatchNorm2d(128),\n",
    "            nn.LeakyReLU(0.1, inplace=True),\n",
    "            nn.Conv2d(128, 256, 4, 2, 1, bias=False),\n",
    "            nn.BatchNorm2d(256),\n",
    "            nn.LeakyReLU(0.1, inplace=True),\n",
    "            nn.Conv2d(256, 512, 4, 2, 1, bias=False),\n",
    "            nn.BatchNorm2d(512),\n",
    "            nn.LeakyReLU(0.1, inplace=True),\n",
    "            nn.Conv2d(512, 1024, 8, bias=False),\n",
    "            nn.BatchNorm2d(1024),\n",
    "            nn.LeakyReLU(0.1, inplace=True),\n",
    "        )\n",
    "\n",
    "    def forward(self, x):\n",
    "        return self.main(x)\n",
    "    \n",
    "class Discriminator(nn.Module):\n",
    "    def __init__(self):\n",
    "        super(Discriminator, self).__init__()\n",
    "\n",
    "        self.linear = nn.Sequential(\n",
    "            nn.Conv2d(1024, 1, 1),\n",
    "            nn.Sigmoid()\n",
    "        )\n",
    "    \n",
    "    def forward(self, x):\n",
    "        out = self.linear(x).view(-1, 1)\n",
    "        return out #prob of being real\n",
    "\n",
    "class Q(nn.Module):\n",
    "    def __init__(self, cc_dim=2, dc_dim=10):\n",
    "        super(Q, self).__init__()\n",
    "        self.conv = nn.Conv2d(1024, 128, 1, bias=False)\n",
    "        self.bn = nn.BatchNorm2d(128)\n",
    "        self.lReLU = nn.LeakyReLU(0.1, inplace=True)\n",
    "        \n",
    "        self.conv_disc = nn.Conv2d(128, dc_dim, 1)\n",
    "        self.conv_mu   = nn.Conv2d(128, cc_dim, 1)\n",
    "        self.conv_var  = nn.Conv2d(128, cc_dim, 1)\n",
    "\n",
    "    def forward(self, x):\n",
    "        y = self.conv(x)\n",
    "        \n",
    "        disc_logits = self.conv_disc(y).squeeze()\n",
    "        mu  = self.conv_mu(y).squeeze()\n",
    "        var = self.conv_var(y).squeeze().exp()\n",
    "\n",
    "        return disc_logits, mu, var"
   ]
  },
  {
   "cell_type": "code",
   "execution_count": null,
   "metadata": {},
   "outputs": [],
   "source": [
    "gen = Generator(params['num_z'], params['num_con_c'], params['dis_c_dim'])\n",
    "dsc = Discriminator()\n",
    "q   = Q(params['num_con_c'], params['dis_c_dim'])\n",
    "fe  = FrontEnd()\n",
    "\n",
    "# fe(gen(test_noise[0])).size()\n",
    "d, _ = next(iter(dataloader))\n",
    "# fe(d).size()\n",
    "# q(fe(gen(test_noise[0])))[0].size()"
   ]
  },
  {
   "cell_type": "code",
   "execution_count": null,
   "metadata": {},
   "outputs": [
    {
     "name": "stdout",
     "output_type": "stream",
     "text": [
      "using cuda\n"
     ]
    }
   ],
   "source": [
    "device = 'cpu'\n",
    "init_weights = True\n",
    "if torch.cuda.is_available():\n",
    "    print('using cuda')\n",
    "    gen.cuda()\n",
    "    dsc.cuda()\n",
    "    q.cuda()\n",
    "    fe.cuda()\n",
    "    device = 'cuda'\n",
    "if init_weights:\n",
    "    gen.apply(weights_init)\n",
    "    dsc.apply(weights_init)\n",
    "    q.apply(weights_init)\n",
    "    fe.apply(weights_init)"
   ]
  },
  {
   "cell_type": "code",
   "execution_count": null,
   "metadata": {},
   "outputs": [],
   "source": [
    "optim_d = optim.Adam([{'params':fe.parameters()}, {'params': dsc.parameters()}], \n",
    "                 lr=params['lrD'], betas=[params['beta1'], params['beta2']])\n",
    "optim_g = optim.Adam([{'params':gen.parameters()}, {'params': q.parameters()}], \n",
    "                 lr=params['lrG'], betas=[params['beta1'], params['beta2']])"
   ]
  },
  {
   "cell_type": "code",
   "execution_count": null,
   "metadata": {},
   "outputs": [
    {
     "name": "stdout",
     "output_type": "stream",
     "text": [
      "Epoch/Iter:1/1400, D_Loss: 0.169759601354599, G_Loss: 3.475357294082641675\n",
      "Epoch/Iter:2/1400, D_Loss: 0.06105554848909378, G_Loss: 4.391475200653076\n",
      "Epoch/Iter:3/1100, D_Loss: 0.05432390049099922, G_Loss: 4.252645492553711\r"
     ]
    }
   ],
   "source": [
    "G_losses = []\n",
    "D_losses = []\n",
    "\n",
    "BCE = nn.BCELoss().to(device) #Binary Cross Entropy loss\n",
    "CE  = nn.CrossEntropyLoss().to(device)\n",
    "CQ  = NormalNLLLoss()\n",
    "\n",
    "label = torch.FloatTensor(params['batch_size'], 1).to(device)\n",
    "label = Variable(label, requires_grad=False)\n",
    "for epoch in range(params['epochs']):\n",
    "    for n_i, batch_data in enumerate(dataloader):\n",
    "        ##########################\n",
    "        # Optimize Discriminator #\n",
    "        ##########################\n",
    "        optim_d.zero_grad()\n",
    "        ####### Real Data  #######\n",
    "        real_im   = batch_data[0].to(device) # batch data also contains label info\n",
    "        fe_out = fe(real_im)\n",
    "        real_prob = dsc(fe_out)  # propability of classifying as real\n",
    "        label.data.fill_(1)\n",
    "        loss_real = BCE(real_prob, label) #\n",
    "        loss_real.backward()\n",
    "        ####### Fake Data  #######\n",
    "        noise, idx = noise_sample(params['dis_c_dim'], \n",
    "                          params['num_con_c'], params['num_z'],\n",
    "                          params['batch_size'], device)\n",
    "        fake_im = gen(noise)\n",
    "        fe_out2 = fe(fake_im.detach())\n",
    "        fake_prob = dsc(fe_out2)  # propability of classifying as real\n",
    "        label.data.fill_(0)\n",
    "        loss_fake = BCE(fake_prob, label)\n",
    "        loss_fake.backward()\n",
    "        \n",
    "        discriminator_loss = loss_real + loss_fake\n",
    "        optim_d.step()\n",
    "        ##########################\n",
    "        #   Optimize Generator   #\n",
    "        ##########################\n",
    "        optim_g.zero_grad()\n",
    "        \n",
    "        fe_out = fe(fake_im)\n",
    "        fake_prob = dsc(fe_out)  # propability of classifying as real\n",
    "        label.fill_(1)\n",
    "        reconstruct_loss = BCE(fake_prob, label)\n",
    "        \n",
    "        q_logits, q_mu, q_var = q(fe_out)\n",
    "        target = torch.LongTensor(idx).to(device)\n",
    "        # Calculating loss for discrete latent code.\n",
    "        dis_loss = CE(q_logits, target)\n",
    "\n",
    "        # Calculating loss for continuous latent code.\n",
    "        con_c = noise[:, params['num_z'] + params['dis_c_dim'] : ].view(-1, params['num_con_c'])\n",
    "        con_loss = CQ(con_c, q_mu, q_var) * 0.1\n",
    "\n",
    "        # Generator Loss (Reconstruct, Discreate and Latent code)\n",
    "        generator_loss = reconstruct_loss + dis_loss + con_loss\n",
    "        generator_loss.backward()\n",
    "        optim_g.step()\n",
    "\n",
    "        ##########################\n",
    "        #      Logging Part      #\n",
    "        ##########################\n",
    "        if (n_i) % 100 == 0 and n_i > 0:\n",
    "            sys.stdout.write('Epoch/Iter:{0}/{1}, D_Loss: {2}, G_Loss: {3}\\r'.format(\n",
    "                epoch + 1, n_i, discriminator_loss.item(), generator_loss.item())\n",
    "            )\n",
    "            sys.stdout.flush()\n",
    "    # Save the losses for plotting.\n",
    "    G_losses.append(generator_loss.item())\n",
    "    D_losses.append(discriminator_loss.item())\n",
    "    print('')"
   ]
  },
  {
   "cell_type": "code",
   "execution_count": null,
   "metadata": {},
   "outputs": [],
   "source": [
    "idx = np.arange(10).repeat(10)\n",
    "one_hot = np.zeros((100, 10))\n",
    "one_hot[range(100), idx] = 1\n",
    "    \n",
    "fix_noise = torch.Tensor(100, 62).uniform_(-1, 1).cuda()\n",
    "dis_c = torch.FloatTensor(100, 10).cuda()\n",
    "dis_c.data.copy_(torch.Tensor(one_hot))\n",
    "\n",
    "c = np.linspace(-1, 1, 10).reshape(1, -1)\n",
    "c = np.repeat(c, 10, 0).reshape(-1, 1)\n",
    "c1 = np.hstack([c, np.zeros_like(c)])\n",
    "c2 = np.hstack([np.zeros_like(c), c])\n",
    "    \n",
    "con_c = torch.FloatTensor(100, 2).cuda()\n",
    "con_c.data.copy_(torch.from_numpy(c1))\n",
    "z = torch.cat([fix_noise, dis_c, con_c], 1).view(-1, 74, 1, 1)\n",
    "x_save_c1 = gen(z)\n",
    "\n",
    "con_c.data.copy_(torch.from_numpy(c2))\n",
    "z = torch.cat([fix_noise, dis_c, con_c], 1).view(-1, 74, 1, 1)\n",
    "x_save_c2 = gen(z)"
   ]
  },
  {
   "cell_type": "code",
   "execution_count": null,
   "metadata": {},
   "outputs": [],
   "source": []
  }
 ],
 "metadata": {
  "kernelspec": {
   "display_name": "Python 3",
   "language": "python",
   "name": "python3"
  },
  "language_info": {
   "codemirror_mode": {
    "name": "ipython",
    "version": 3
   },
   "file_extension": ".py",
   "mimetype": "text/x-python",
   "name": "python",
   "nbconvert_exporter": "python",
   "pygments_lexer": "ipython3",
   "version": "3.7.2"
  }
 },
 "nbformat": 4,
 "nbformat_minor": 2
}
